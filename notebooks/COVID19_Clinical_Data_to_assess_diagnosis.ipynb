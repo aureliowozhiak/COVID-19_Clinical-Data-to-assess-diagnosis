{
 "cells": [
  {
   "cell_type": "markdown",
   "id": "b6f7c5d9",
   "metadata": {},
   "source": [
    "# COVID-19 - Clinical Data to assess diagnosis\n",
    "\n",
    "\n",
    "Esse projeto é uma pequena ramificação da problematica encontrada com os dados que foram disponibilizados pelo Hospital Sírio Libanês - São Paulo e Brasília, no [Kaggle](https://www.kaggle.com/S%C3%ADrio-Libanes/covid19https://www.kaggle.com/S%C3%ADrio-Libanes/covid19)\n",
    "\n",
    "\n",
    "Todo mundo sabe que a pandemia de COVID-19 atingiu o mundo inteiro, sobrecarregando os sistemas de saúde - despreparados para uma solicitação tão intensa e demorada de leitos de UTI, profissionais, equipamentos de proteção individual e recursos de saúde.\n",
    "\n",
    "O Brasil registrou o primeiro caso COVID-19 em 26 de fevereiro e atingiu a transmissão na comunidade em 20 de março.\n",
    "\n",
    "Há urgência na obtenção de dados precisos para melhor prever e preparar os sistemas de saúde e evitar colapsos, definidos pela necessidade de leitos de UTI acima da capacidade (presumindo-se que haja recursos humanos, EPIs e profissionais disponíveis), utilizando dados clínicos individuais - em vez de dados epidemiológicos e populacionais. <sub>traduzido e adaptado da Description do projeto no [Kaggle](https://www.kaggle.com/S%C3%ADrio-Libanes/covid19https://www.kaggle.com/S%C3%ADrio-Libanes/covid19) - acesso: 03/08/2021\n",
    "</sub>\n",
    "\n",
    "![](../images/cdc_200313_flatten_the_curve_800x450.webp)\n",
    "\n",
    "## O objetivo\n",
    "\n",
    "\n",
    "Nosso objetivo aqui será criar um modelo capaz de prever quais pacientes precisarão ser admitidos na unidade de terapia intensiva e assim, definir qual a necessidade de leitos de UTI do hospital, a partir dos dados clínicos individuais disponíveis.\n",
    "\n",
    "## Os dados\n",
    "\n",
    "### Label output\n",
    "A UTI (ICU) deve ser considerada, como primeira versão desse conjunto de dados, ou seja, será nossa variável de destino.\n",
    "\n",
    "### Window Concept\n",
    "\n",
    "Houve o cuidado de incluir cenários da vida real com janela de eventos e dados disponíveis.\n",
    "Os dados foram obtidos e agrupados\n",
    "\n",
    " patient\n",
    "- patient encounter\n",
    "- aggregated by windows in chronological order\n",
    "\n",
    "<table>\n",
    "<thead>\n",
    "<tr>\n",
    "<th>Window</th>\n",
    "<th>Description</th>\n",
    "</tr>\n",
    "</thead>\n",
    "<tbody>\n",
    "<tr>\n",
    "<td>0-2</td>\n",
    "<td>From 0 to 2 hours of the admission</td>\n",
    "</tr>\n",
    "<tr>\n",
    "<td>2-4</td>\n",
    "<td>From 2 to 4 hours of the admission</td>\n",
    "</tr>\n",
    "<tr>\n",
    "<td>4-6</td>\n",
    "<td>From 4 to 6 hours of the admission</td>\n",
    "</tr>\n",
    "<tr>\n",
    "<td>6-12</td>\n",
    "<td>From 6 to 12 hours of the admission</td>\n",
    "</tr>\n",
    "<tr>\n",
    "<td>Above-12</td>\n",
    "<td>Above 12 hours from admission</td>\n",
    "</tr>\n",
    "</tbody>\n",
    "</table>\n",
    "\n",
    "Não vamos usar os dados quando a variável de destino estiver presente, pois a ordem do evento é desconhecida (talvez o evento de destino tenha acontecido antes dos resultados serem obtidos). Eles foram mantidos lá para que possamos aumentar este conjunto de dados em outros resultados posteriormente.\n",
    "\n",
    "![](../images/Best.png)\n",
    "\n",
    "![](../images/No.png)\n",
    "\n",
    "### Dataset\n",
    "Este conjunto de dados contém dados anônimos do Hospital Sírio-Libanês, São Paulo e Brasília. Todos os dados foram tornados anônimos de acordo com as melhores práticas e recomendações internacionais.\n",
    "Os dados foram limpos e escalados por coluna de acordo com Min Max Scaler para caber entre -1 e 1."
   ]
  },
  {
   "cell_type": "markdown",
   "id": "441616e2-1c9f-4acd-a5a6-7776ebc690e2",
   "metadata": {},
   "source": [
    "Dados baixados do https://www.kaggle.com/S%C3%ADrio-Libanes/covid19 dia 26/07/2021 e cópia salva no https://github.com/aureliowozhiak/COVID-19_Clinical-Data-to-assess-diagnosis/blob/main/dataset/Kaggle_Sirio_Libanes_ICU_Prediction.xlsx"
   ]
  },
  {
   "cell_type": "markdown",
   "id": "f9d83a03",
   "metadata": {},
   "source": [
    "#### Importando bibliotecas"
   ]
  },
  {
   "cell_type": "code",
   "execution_count": 161,
   "id": "ed57ccd0-ce10-4520-b228-2ee37bd12093",
   "metadata": {},
   "outputs": [],
   "source": [
    "import pandas as pd\n",
    "import numpy as np\n",
    "import matplotlib.pyplot as plt\n",
    "\n",
    "from sklearn.model_selection import train_test_split\n",
    "from sklearn.model_selection import cross_validate\n",
    "from sklearn.model_selection import StratifiedKFold\n",
    "from sklearn.model_selection import RepeatedStratifiedKFold\n",
    "\n",
    "from sklearn.linear_model import LogisticRegression\n",
    "from sklearn.dummy import DummyClassifier\n",
    "from sklearn.tree import DecisionTreeClassifier\n",
    "\n",
    "from sklearn.metrics import accuracy_score\n",
    "from sklearn.metrics import plot_confusion_matrix\n",
    "from sklearn.metrics import classification_report\n",
    "from sklearn.metrics import roc_auc_score\n",
    "\n",
    "\n",
    "import warnings\n",
    "warnings.filterwarnings(\"ignore\")"
   ]
  },
  {
   "cell_type": "markdown",
   "id": "821cad3a",
   "metadata": {},
   "source": [
    "#### Carregando dados"
   ]
  },
  {
   "cell_type": "code",
   "execution_count": 6,
   "id": "0a48ac88-4121-4fa1-a85c-50a19ff26780",
   "metadata": {},
   "outputs": [],
   "source": [
    "dados = pd.read_excel('https://github.com/aureliowozhiak/COVID-19_Clinical-Data-to-assess-diagnosis/raw/main/dataset/Kaggle_Sirio_Libanes_ICU_Prediction.xlsx')"
   ]
  },
  {
   "cell_type": "markdown",
   "id": "7f975737",
   "metadata": {},
   "source": [
    "#### Definindo funções"
   ]
  },
  {
   "cell_type": "code",
   "execution_count": 181,
   "id": "792eb6cf-2cd7-4062-a350-2227f620042d",
   "metadata": {
    "scrolled": true
   },
   "outputs": [],
   "source": [
    "def preenche_tabela(dados):\n",
    "    features_continuas_colunas = dados.iloc[:, 13:-2].columns\n",
    "    features_continuas = dados.groupby(\"PATIENT_VISIT_IDENTIFIER\", as_index=False)[features_continuas_colunas].fillna(method='bfill').fillna(method='ffill')\n",
    "    features_categoricas = dados.iloc[:, :13]\n",
    "    saida = dados.iloc[:, -2:]\n",
    "    dados_finais = pd.concat([features_categoricas, features_continuas, saida], ignore_index=True,axis=1)\n",
    "    dados_finais.columns = dados.columns\n",
    "    return dados_finais\n",
    "\n",
    "\n",
    "def prepare_window(rows):\n",
    "    if(np.any(rows[\"ICU\"])):\n",
    "        rows.loc[rows[\"WINDOW\"]==\"0-2\", \"ICU\"] = 1\n",
    "    return rows.loc[rows[\"WINDOW\"] == \"0-2\"]\n",
    "\n",
    "def roda_modelo_matriz_confusao(modelo, nome_modelo):\n",
    "    \n",
    "    np.random.seed(73246)\n",
    "    x_columns = dados.columns\n",
    "    y = dados_limpos[\"ICU\"]\n",
    "    x = dados_limpos[x_columns].drop([\"ICU\",\"WINDOW\"], axis=1)\n",
    "    x_train, x_test, y_train, y_test = train_test_split(x, y, stratify=y)\n",
    "    \n",
    "    modelo.fit(x_train, y_train)\n",
    "\n",
    "    y_prediction_modelo = modelo.predict(x_test)\n",
    "    print(nome_modelo + \"\\naccuracy_score:\" , accuracy_score(y_test, y_prediction_modelo))\n",
    "\n",
    "    plot_confusion_matrix(modelo, x_test, y_test)\n",
    "\n",
    "    print(classification_report(y_test, y_prediction_modelo))\n",
    "    \n",
    "def roda_n_modelos(modelo, dados, n):\n",
    "\n",
    "    np.random.seed(73246)\n",
    "    x_columns = dados.columns\n",
    "    y = dados[\"ICU\"]\n",
    "    x = dados[x_columns].drop([\"ICU\",\"WINDOW\"], axis=1)\n",
    "    \n",
    "    auc_lista = []\n",
    "    for _ in range(n):\n",
    "        \n",
    "        x_train, x_test, y_train, y_test = train_test_split(x, y, stratify=y)\n",
    "\n",
    "        modelo.fit(x_train, y_train)\n",
    "        prob_predic = modelo.predict_proba(x_test)\n",
    "        auc = roc_auc_score(y_test, prob_predic[:,1])\n",
    "        auc_lista.append(auc)\n",
    "    \n",
    "    auc_medio = np.mean(auc_lista)\n",
    "    auc_std = np.std(auc_lista)\n",
    "    print(f\"AUC {auc_medio}\")\n",
    "    print(f\"Intervalo {auc_medio - 2* auc_std} - {auc_medio + 2* auc_std}\")\n",
    "    \n",
    "    \n",
    "def roda_modelo_cv(modelo, dados, n_splits, n_repeats):\n",
    "\n",
    "    np.random.seed(73246)\n",
    "    dados = dados.sample(frac=1).reset_index(drop=True)\n",
    "    x_columns = dados.columns\n",
    "    y = dados[\"ICU\"]\n",
    "    x = dados[x_columns].drop([\"ICU\",\"WINDOW\"], axis=1)\n",
    "    \n",
    "    \n",
    "    cv = RepeatedStratifiedKFold(n_splits = n_splits, n_repeats=n_repeats)\n",
    "    resultados=cross_validate(modelo, x, y, cv=cv, scoring='roc_auc', return_train_score=True)\n",
    "    \n",
    "    auc_medio = np.mean(resultados['test_score'])\n",
    "    auc_medio_treino = np.mean(resultados['train_score'])\n",
    "\n",
    "    auc_std = np.std(resultados['test_score'])\n",
    "    \n",
    "    print(f'AUC Médio: {auc_medio}')\n",
    "    print(f'Intervalo {auc_medio - (2*auc_std)} - {auc_medio + (2*auc_std)}')\n",
    "    return auc_medio, auc_medio_treino"
   ]
  },
  {
   "cell_type": "markdown",
   "id": "e6e23c34",
   "metadata": {},
   "source": [
    "#### Limpando dados"
   ]
  },
  {
   "cell_type": "code",
   "execution_count": 85,
   "id": "55afafc5-d0f4-4d02-9b84-40960bb22008",
   "metadata": {},
   "outputs": [],
   "source": [
    "dados_limpos = preenche_tabela(dados)\n",
    "a_remover = dados_limpos.query(\"WINDOW=='0-2' and ICU==1\")['PATIENT_VISIT_IDENTIFIER'].values\n",
    "dados_limpos = dados_limpos.query(\"PATIENT_VISIT_IDENTIFIER not in @a_remover\")\n",
    "dados_limpos = dados_limpos.dropna()\n",
    "\n",
    "dados_limpos = dados_limpos.groupby(\"PATIENT_VISIT_IDENTIFIER\").apply(prepare_window)\n",
    "dados_limpos.AGE_PERCENTIL = dados_limpos.AGE_PERCENTIL.astype(\"category\").cat.codes"
   ]
  },
  {
   "cell_type": "code",
   "execution_count": 86,
   "id": "9c53e537-e87b-412f-9e34-b845809e56cc",
   "metadata": {},
   "outputs": [
    {
     "data": {
      "text/html": [
       "<div>\n",
       "<style scoped>\n",
       "    .dataframe tbody tr th:only-of-type {\n",
       "        vertical-align: middle;\n",
       "    }\n",
       "\n",
       "    .dataframe tbody tr th {\n",
       "        vertical-align: top;\n",
       "    }\n",
       "\n",
       "    .dataframe thead th {\n",
       "        text-align: right;\n",
       "    }\n",
       "</style>\n",
       "<table border=\"1\" class=\"dataframe\">\n",
       "  <thead>\n",
       "    <tr style=\"text-align: right;\">\n",
       "      <th></th>\n",
       "      <th></th>\n",
       "      <th>PATIENT_VISIT_IDENTIFIER</th>\n",
       "      <th>AGE_ABOVE65</th>\n",
       "      <th>AGE_PERCENTIL</th>\n",
       "      <th>GENDER</th>\n",
       "      <th>DISEASE GROUPING 1</th>\n",
       "      <th>DISEASE GROUPING 2</th>\n",
       "      <th>DISEASE GROUPING 3</th>\n",
       "      <th>DISEASE GROUPING 4</th>\n",
       "      <th>DISEASE GROUPING 5</th>\n",
       "      <th>DISEASE GROUPING 6</th>\n",
       "      <th>...</th>\n",
       "      <th>TEMPERATURE_DIFF</th>\n",
       "      <th>OXYGEN_SATURATION_DIFF</th>\n",
       "      <th>BLOODPRESSURE_DIASTOLIC_DIFF_REL</th>\n",
       "      <th>BLOODPRESSURE_SISTOLIC_DIFF_REL</th>\n",
       "      <th>HEART_RATE_DIFF_REL</th>\n",
       "      <th>RESPIRATORY_RATE_DIFF_REL</th>\n",
       "      <th>TEMPERATURE_DIFF_REL</th>\n",
       "      <th>OXYGEN_SATURATION_DIFF_REL</th>\n",
       "      <th>WINDOW</th>\n",
       "      <th>ICU</th>\n",
       "    </tr>\n",
       "    <tr>\n",
       "      <th>PATIENT_VISIT_IDENTIFIER</th>\n",
       "      <th></th>\n",
       "      <th></th>\n",
       "      <th></th>\n",
       "      <th></th>\n",
       "      <th></th>\n",
       "      <th></th>\n",
       "      <th></th>\n",
       "      <th></th>\n",
       "      <th></th>\n",
       "      <th></th>\n",
       "      <th></th>\n",
       "      <th></th>\n",
       "      <th></th>\n",
       "      <th></th>\n",
       "      <th></th>\n",
       "      <th></th>\n",
       "      <th></th>\n",
       "      <th></th>\n",
       "      <th></th>\n",
       "      <th></th>\n",
       "      <th></th>\n",
       "      <th></th>\n",
       "    </tr>\n",
       "  </thead>\n",
       "  <tbody>\n",
       "    <tr>\n",
       "      <th>0</th>\n",
       "      <th>0</th>\n",
       "      <td>0</td>\n",
       "      <td>1</td>\n",
       "      <td>5</td>\n",
       "      <td>0</td>\n",
       "      <td>0.0</td>\n",
       "      <td>0.0</td>\n",
       "      <td>0.0</td>\n",
       "      <td>0.0</td>\n",
       "      <td>1.0</td>\n",
       "      <td>1.0</td>\n",
       "      <td>...</td>\n",
       "      <td>-1.000000</td>\n",
       "      <td>-1.000000</td>\n",
       "      <td>-1.000000</td>\n",
       "      <td>-1.000000</td>\n",
       "      <td>-1.000000</td>\n",
       "      <td>-1.000000</td>\n",
       "      <td>-1.000000</td>\n",
       "      <td>-1.000000</td>\n",
       "      <td>0-2</td>\n",
       "      <td>1</td>\n",
       "    </tr>\n",
       "    <tr>\n",
       "      <th>2</th>\n",
       "      <th>10</th>\n",
       "      <td>2</td>\n",
       "      <td>0</td>\n",
       "      <td>0</td>\n",
       "      <td>0</td>\n",
       "      <td>0.0</td>\n",
       "      <td>0.0</td>\n",
       "      <td>0.0</td>\n",
       "      <td>0.0</td>\n",
       "      <td>0.0</td>\n",
       "      <td>0.0</td>\n",
       "      <td>...</td>\n",
       "      <td>-1.000000</td>\n",
       "      <td>-0.959596</td>\n",
       "      <td>-0.515528</td>\n",
       "      <td>-0.351328</td>\n",
       "      <td>-0.747001</td>\n",
       "      <td>-0.756272</td>\n",
       "      <td>-1.000000</td>\n",
       "      <td>-0.961262</td>\n",
       "      <td>0-2</td>\n",
       "      <td>1</td>\n",
       "    </tr>\n",
       "    <tr>\n",
       "      <th>3</th>\n",
       "      <th>15</th>\n",
       "      <td>3</td>\n",
       "      <td>0</td>\n",
       "      <td>3</td>\n",
       "      <td>1</td>\n",
       "      <td>0.0</td>\n",
       "      <td>0.0</td>\n",
       "      <td>0.0</td>\n",
       "      <td>0.0</td>\n",
       "      <td>0.0</td>\n",
       "      <td>0.0</td>\n",
       "      <td>...</td>\n",
       "      <td>-1.000000</td>\n",
       "      <td>-1.000000</td>\n",
       "      <td>-1.000000</td>\n",
       "      <td>-1.000000</td>\n",
       "      <td>-1.000000</td>\n",
       "      <td>-1.000000</td>\n",
       "      <td>-1.000000</td>\n",
       "      <td>-1.000000</td>\n",
       "      <td>0-2</td>\n",
       "      <td>0</td>\n",
       "    </tr>\n",
       "    <tr>\n",
       "      <th>4</th>\n",
       "      <th>20</th>\n",
       "      <td>4</td>\n",
       "      <td>0</td>\n",
       "      <td>0</td>\n",
       "      <td>0</td>\n",
       "      <td>0.0</td>\n",
       "      <td>0.0</td>\n",
       "      <td>0.0</td>\n",
       "      <td>0.0</td>\n",
       "      <td>0.0</td>\n",
       "      <td>0.0</td>\n",
       "      <td>...</td>\n",
       "      <td>-0.952381</td>\n",
       "      <td>-0.979798</td>\n",
       "      <td>-1.000000</td>\n",
       "      <td>-0.883669</td>\n",
       "      <td>-0.956805</td>\n",
       "      <td>-0.870968</td>\n",
       "      <td>-0.953536</td>\n",
       "      <td>-0.980333</td>\n",
       "      <td>0-2</td>\n",
       "      <td>0</td>\n",
       "    </tr>\n",
       "    <tr>\n",
       "      <th>5</th>\n",
       "      <th>25</th>\n",
       "      <td>5</td>\n",
       "      <td>0</td>\n",
       "      <td>0</td>\n",
       "      <td>0</td>\n",
       "      <td>0.0</td>\n",
       "      <td>0.0</td>\n",
       "      <td>0.0</td>\n",
       "      <td>0.0</td>\n",
       "      <td>0.0</td>\n",
       "      <td>0.0</td>\n",
       "      <td>...</td>\n",
       "      <td>-0.976190</td>\n",
       "      <td>-0.979798</td>\n",
       "      <td>-0.860870</td>\n",
       "      <td>-0.714460</td>\n",
       "      <td>-0.986481</td>\n",
       "      <td>-1.000000</td>\n",
       "      <td>-0.975891</td>\n",
       "      <td>-0.980129</td>\n",
       "      <td>0-2</td>\n",
       "      <td>0</td>\n",
       "    </tr>\n",
       "    <tr>\n",
       "      <th>...</th>\n",
       "      <th>...</th>\n",
       "      <td>...</td>\n",
       "      <td>...</td>\n",
       "      <td>...</td>\n",
       "      <td>...</td>\n",
       "      <td>...</td>\n",
       "      <td>...</td>\n",
       "      <td>...</td>\n",
       "      <td>...</td>\n",
       "      <td>...</td>\n",
       "      <td>...</td>\n",
       "      <td>...</td>\n",
       "      <td>...</td>\n",
       "      <td>...</td>\n",
       "      <td>...</td>\n",
       "      <td>...</td>\n",
       "      <td>...</td>\n",
       "      <td>...</td>\n",
       "      <td>...</td>\n",
       "      <td>...</td>\n",
       "      <td>...</td>\n",
       "      <td>...</td>\n",
       "    </tr>\n",
       "    <tr>\n",
       "      <th>380</th>\n",
       "      <th>1900</th>\n",
       "      <td>380</td>\n",
       "      <td>0</td>\n",
       "      <td>3</td>\n",
       "      <td>1</td>\n",
       "      <td>0.0</td>\n",
       "      <td>0.0</td>\n",
       "      <td>0.0</td>\n",
       "      <td>0.0</td>\n",
       "      <td>0.0</td>\n",
       "      <td>0.0</td>\n",
       "      <td>...</td>\n",
       "      <td>-1.000000</td>\n",
       "      <td>-1.000000</td>\n",
       "      <td>-1.000000</td>\n",
       "      <td>-1.000000</td>\n",
       "      <td>-1.000000</td>\n",
       "      <td>-1.000000</td>\n",
       "      <td>-1.000000</td>\n",
       "      <td>-1.000000</td>\n",
       "      <td>0-2</td>\n",
       "      <td>1</td>\n",
       "    </tr>\n",
       "    <tr>\n",
       "      <th>381</th>\n",
       "      <th>1905</th>\n",
       "      <td>381</td>\n",
       "      <td>1</td>\n",
       "      <td>9</td>\n",
       "      <td>0</td>\n",
       "      <td>0.0</td>\n",
       "      <td>0.0</td>\n",
       "      <td>0.0</td>\n",
       "      <td>0.0</td>\n",
       "      <td>0.0</td>\n",
       "      <td>0.0</td>\n",
       "      <td>...</td>\n",
       "      <td>-0.619048</td>\n",
       "      <td>-1.000000</td>\n",
       "      <td>-1.000000</td>\n",
       "      <td>-1.000000</td>\n",
       "      <td>-1.000000</td>\n",
       "      <td>-1.000000</td>\n",
       "      <td>-0.612627</td>\n",
       "      <td>-1.000000</td>\n",
       "      <td>0-2</td>\n",
       "      <td>0</td>\n",
       "    </tr>\n",
       "    <tr>\n",
       "      <th>382</th>\n",
       "      <th>1910</th>\n",
       "      <td>382</td>\n",
       "      <td>0</td>\n",
       "      <td>4</td>\n",
       "      <td>0</td>\n",
       "      <td>0.0</td>\n",
       "      <td>0.0</td>\n",
       "      <td>0.0</td>\n",
       "      <td>0.0</td>\n",
       "      <td>0.0</td>\n",
       "      <td>0.0</td>\n",
       "      <td>...</td>\n",
       "      <td>-1.000000</td>\n",
       "      <td>-1.000000</td>\n",
       "      <td>-1.000000</td>\n",
       "      <td>-1.000000</td>\n",
       "      <td>-1.000000</td>\n",
       "      <td>-1.000000</td>\n",
       "      <td>-1.000000</td>\n",
       "      <td>-1.000000</td>\n",
       "      <td>0-2</td>\n",
       "      <td>1</td>\n",
       "    </tr>\n",
       "    <tr>\n",
       "      <th>383</th>\n",
       "      <th>1915</th>\n",
       "      <td>383</td>\n",
       "      <td>0</td>\n",
       "      <td>3</td>\n",
       "      <td>1</td>\n",
       "      <td>0.0</td>\n",
       "      <td>0.0</td>\n",
       "      <td>0.0</td>\n",
       "      <td>0.0</td>\n",
       "      <td>0.0</td>\n",
       "      <td>0.0</td>\n",
       "      <td>...</td>\n",
       "      <td>-1.000000</td>\n",
       "      <td>-1.000000</td>\n",
       "      <td>-1.000000</td>\n",
       "      <td>-1.000000</td>\n",
       "      <td>-1.000000</td>\n",
       "      <td>-1.000000</td>\n",
       "      <td>-1.000000</td>\n",
       "      <td>-1.000000</td>\n",
       "      <td>0-2</td>\n",
       "      <td>0</td>\n",
       "    </tr>\n",
       "    <tr>\n",
       "      <th>384</th>\n",
       "      <th>1920</th>\n",
       "      <td>384</td>\n",
       "      <td>0</td>\n",
       "      <td>4</td>\n",
       "      <td>1</td>\n",
       "      <td>0.0</td>\n",
       "      <td>0.0</td>\n",
       "      <td>0.0</td>\n",
       "      <td>0.0</td>\n",
       "      <td>0.0</td>\n",
       "      <td>0.0</td>\n",
       "      <td>...</td>\n",
       "      <td>-1.000000</td>\n",
       "      <td>-1.000000</td>\n",
       "      <td>-1.000000</td>\n",
       "      <td>-1.000000</td>\n",
       "      <td>-1.000000</td>\n",
       "      <td>-1.000000</td>\n",
       "      <td>-1.000000</td>\n",
       "      <td>-1.000000</td>\n",
       "      <td>0-2</td>\n",
       "      <td>0</td>\n",
       "    </tr>\n",
       "  </tbody>\n",
       "</table>\n",
       "<p>352 rows × 231 columns</p>\n",
       "</div>"
      ],
      "text/plain": [
       "                               PATIENT_VISIT_IDENTIFIER  AGE_ABOVE65  \\\n",
       "PATIENT_VISIT_IDENTIFIER                                               \n",
       "0                        0                            0            1   \n",
       "2                        10                           2            0   \n",
       "3                        15                           3            0   \n",
       "4                        20                           4            0   \n",
       "5                        25                           5            0   \n",
       "...                                                 ...          ...   \n",
       "380                      1900                       380            0   \n",
       "381                      1905                       381            1   \n",
       "382                      1910                       382            0   \n",
       "383                      1915                       383            0   \n",
       "384                      1920                       384            0   \n",
       "\n",
       "                               AGE_PERCENTIL  GENDER  DISEASE GROUPING 1  \\\n",
       "PATIENT_VISIT_IDENTIFIER                                                   \n",
       "0                        0                 5       0                 0.0   \n",
       "2                        10                0       0                 0.0   \n",
       "3                        15                3       1                 0.0   \n",
       "4                        20                0       0                 0.0   \n",
       "5                        25                0       0                 0.0   \n",
       "...                                      ...     ...                 ...   \n",
       "380                      1900              3       1                 0.0   \n",
       "381                      1905              9       0                 0.0   \n",
       "382                      1910              4       0                 0.0   \n",
       "383                      1915              3       1                 0.0   \n",
       "384                      1920              4       1                 0.0   \n",
       "\n",
       "                               DISEASE GROUPING 2  DISEASE GROUPING 3  \\\n",
       "PATIENT_VISIT_IDENTIFIER                                                \n",
       "0                        0                    0.0                 0.0   \n",
       "2                        10                   0.0                 0.0   \n",
       "3                        15                   0.0                 0.0   \n",
       "4                        20                   0.0                 0.0   \n",
       "5                        25                   0.0                 0.0   \n",
       "...                                           ...                 ...   \n",
       "380                      1900                 0.0                 0.0   \n",
       "381                      1905                 0.0                 0.0   \n",
       "382                      1910                 0.0                 0.0   \n",
       "383                      1915                 0.0                 0.0   \n",
       "384                      1920                 0.0                 0.0   \n",
       "\n",
       "                               DISEASE GROUPING 4  DISEASE GROUPING 5  \\\n",
       "PATIENT_VISIT_IDENTIFIER                                                \n",
       "0                        0                    0.0                 1.0   \n",
       "2                        10                   0.0                 0.0   \n",
       "3                        15                   0.0                 0.0   \n",
       "4                        20                   0.0                 0.0   \n",
       "5                        25                   0.0                 0.0   \n",
       "...                                           ...                 ...   \n",
       "380                      1900                 0.0                 0.0   \n",
       "381                      1905                 0.0                 0.0   \n",
       "382                      1910                 0.0                 0.0   \n",
       "383                      1915                 0.0                 0.0   \n",
       "384                      1920                 0.0                 0.0   \n",
       "\n",
       "                               DISEASE GROUPING 6  ...  TEMPERATURE_DIFF  \\\n",
       "PATIENT_VISIT_IDENTIFIER                           ...                     \n",
       "0                        0                    1.0  ...         -1.000000   \n",
       "2                        10                   0.0  ...         -1.000000   \n",
       "3                        15                   0.0  ...         -1.000000   \n",
       "4                        20                   0.0  ...         -0.952381   \n",
       "5                        25                   0.0  ...         -0.976190   \n",
       "...                                           ...  ...               ...   \n",
       "380                      1900                 0.0  ...         -1.000000   \n",
       "381                      1905                 0.0  ...         -0.619048   \n",
       "382                      1910                 0.0  ...         -1.000000   \n",
       "383                      1915                 0.0  ...         -1.000000   \n",
       "384                      1920                 0.0  ...         -1.000000   \n",
       "\n",
       "                               OXYGEN_SATURATION_DIFF  \\\n",
       "PATIENT_VISIT_IDENTIFIER                                \n",
       "0                        0                  -1.000000   \n",
       "2                        10                 -0.959596   \n",
       "3                        15                 -1.000000   \n",
       "4                        20                 -0.979798   \n",
       "5                        25                 -0.979798   \n",
       "...                                               ...   \n",
       "380                      1900               -1.000000   \n",
       "381                      1905               -1.000000   \n",
       "382                      1910               -1.000000   \n",
       "383                      1915               -1.000000   \n",
       "384                      1920               -1.000000   \n",
       "\n",
       "                               BLOODPRESSURE_DIASTOLIC_DIFF_REL  \\\n",
       "PATIENT_VISIT_IDENTIFIER                                          \n",
       "0                        0                            -1.000000   \n",
       "2                        10                           -0.515528   \n",
       "3                        15                           -1.000000   \n",
       "4                        20                           -1.000000   \n",
       "5                        25                           -0.860870   \n",
       "...                                                         ...   \n",
       "380                      1900                         -1.000000   \n",
       "381                      1905                         -1.000000   \n",
       "382                      1910                         -1.000000   \n",
       "383                      1915                         -1.000000   \n",
       "384                      1920                         -1.000000   \n",
       "\n",
       "                               BLOODPRESSURE_SISTOLIC_DIFF_REL  \\\n",
       "PATIENT_VISIT_IDENTIFIER                                         \n",
       "0                        0                           -1.000000   \n",
       "2                        10                          -0.351328   \n",
       "3                        15                          -1.000000   \n",
       "4                        20                          -0.883669   \n",
       "5                        25                          -0.714460   \n",
       "...                                                        ...   \n",
       "380                      1900                        -1.000000   \n",
       "381                      1905                        -1.000000   \n",
       "382                      1910                        -1.000000   \n",
       "383                      1915                        -1.000000   \n",
       "384                      1920                        -1.000000   \n",
       "\n",
       "                               HEART_RATE_DIFF_REL  RESPIRATORY_RATE_DIFF_REL  \\\n",
       "PATIENT_VISIT_IDENTIFIER                                                        \n",
       "0                        0               -1.000000                  -1.000000   \n",
       "2                        10              -0.747001                  -0.756272   \n",
       "3                        15              -1.000000                  -1.000000   \n",
       "4                        20              -0.956805                  -0.870968   \n",
       "5                        25              -0.986481                  -1.000000   \n",
       "...                                            ...                        ...   \n",
       "380                      1900            -1.000000                  -1.000000   \n",
       "381                      1905            -1.000000                  -1.000000   \n",
       "382                      1910            -1.000000                  -1.000000   \n",
       "383                      1915            -1.000000                  -1.000000   \n",
       "384                      1920            -1.000000                  -1.000000   \n",
       "\n",
       "                               TEMPERATURE_DIFF_REL  \\\n",
       "PATIENT_VISIT_IDENTIFIER                              \n",
       "0                        0                -1.000000   \n",
       "2                        10               -1.000000   \n",
       "3                        15               -1.000000   \n",
       "4                        20               -0.953536   \n",
       "5                        25               -0.975891   \n",
       "...                                             ...   \n",
       "380                      1900             -1.000000   \n",
       "381                      1905             -0.612627   \n",
       "382                      1910             -1.000000   \n",
       "383                      1915             -1.000000   \n",
       "384                      1920             -1.000000   \n",
       "\n",
       "                               OXYGEN_SATURATION_DIFF_REL  WINDOW  ICU  \n",
       "PATIENT_VISIT_IDENTIFIER                                                \n",
       "0                        0                      -1.000000     0-2    1  \n",
       "2                        10                     -0.961262     0-2    1  \n",
       "3                        15                     -1.000000     0-2    0  \n",
       "4                        20                     -0.980333     0-2    0  \n",
       "5                        25                     -0.980129     0-2    0  \n",
       "...                                                   ...     ...  ...  \n",
       "380                      1900                   -1.000000     0-2    1  \n",
       "381                      1905                   -1.000000     0-2    0  \n",
       "382                      1910                   -1.000000     0-2    1  \n",
       "383                      1915                   -1.000000     0-2    0  \n",
       "384                      1920                   -1.000000     0-2    0  \n",
       "\n",
       "[352 rows x 231 columns]"
      ]
     },
     "execution_count": 86,
     "metadata": {},
     "output_type": "execute_result"
    }
   ],
   "source": [
    "dados_limpos"
   ]
  },
  {
   "cell_type": "markdown",
   "id": "94c6070f",
   "metadata": {},
   "source": [
    "### Análisando a Matriz de confusão\n",
    "\n",
    "A Matriz de confusão nos ajuda a entender as frequências de classificação para cada classe do modelo. Essas frequências são: Verdadeiro positivo, Falso positivo, Verdadeiro negativo e Falso negativo, ou seja, essa tabela permite uma visualização do desempenho dos nossos algoritmos utilizados.\n",
    "\n",
    "Como essa matriz, temos algumas informações importantes sobre as previsões do nosso modelo:\n",
    "\n",
    "##### accuracy (Acurácia):\n",
    "\n",
    "% de acerto das previsões possíveis:\n",
    "\n",
    "![](../images/accuracy.png)\n",
    "\n",
    "\n",
    "##### Recall:\n",
    "\n",
    "Proporção de positivos que foi identificado corretamente, ou seja, o quão bom o modelo é para prever positivos:\n",
    "\n",
    "![](../images/recall.png)\n",
    "\n",
    "##### Precision (Precisão):\n",
    "\n",
    "Proporção de identificações positivas que foram corretas, ou seja, o quão bem o modelo trabalhou:\n",
    "\n",
    "![](../images/precision.png)\n",
    "\n",
    "\n",
    "##### f-score:\n",
    "\n",
    "Balanço entre precisão e recall:\n",
    "\n",
    "![](../images/fscore.png)"
   ]
  },
  {
   "cell_type": "markdown",
   "id": "79eda863",
   "metadata": {},
   "source": [
    "#### DummyClassifier"
   ]
  },
  {
   "cell_type": "code",
   "execution_count": 120,
   "id": "cb064830",
   "metadata": {},
   "outputs": [
    {
     "name": "stdout",
     "output_type": "stream",
     "text": [
      "DummyClassifier\n",
      "accuracy_score: 0.5340909090909091\n",
      "              precision    recall  f1-score   support\n",
      "\n",
      "           0       0.53      1.00      0.70        47\n",
      "           1       0.00      0.00      0.00        41\n",
      "\n",
      "    accuracy                           0.53        88\n",
      "   macro avg       0.27      0.50      0.35        88\n",
      "weighted avg       0.29      0.53      0.37        88\n",
      "\n"
     ]
    },
    {
     "data": {
      "image/png": "[encoded data removed]",
      "text/plain": [
       "<Figure size 432x288 with 2 Axes>"
      ]
     },
     "metadata": {
      "needs_background": "light"
     },
     "output_type": "display_data"
    }
   ],
   "source": [
    "modelo_DummyClassifier = DummyClassifier()\n",
    "roda_modelo_matriz_confusao(modelo_DummyClassifier, \"DummyClassifier\")"
   ]
  },
  {
   "cell_type": "markdown",
   "id": "ed3d4424",
   "metadata": {},
   "source": [
    "#### LogisticRegression"
   ]
  },
  {
   "cell_type": "code",
   "execution_count": 123,
   "id": "06433e1f",
   "metadata": {},
   "outputs": [
    {
     "name": "stdout",
     "output_type": "stream",
     "text": [
      "LogisticRegression\n",
      "accuracy_score: 0.6818181818181818\n",
      "              precision    recall  f1-score   support\n",
      "\n",
      "           0       0.69      0.74      0.71        47\n",
      "           1       0.68      0.61      0.64        41\n",
      "\n",
      "    accuracy                           0.68        88\n",
      "   macro avg       0.68      0.68      0.68        88\n",
      "weighted avg       0.68      0.68      0.68        88\n",
      "\n"
     ]
    },
    {
     "data": {
      "image/png": "[encoded data removed]",
      "text/plain": [
       "<Figure size 432x288 with 2 Axes>"
      ]
     },
     "metadata": {
      "needs_background": "light"
     },
     "output_type": "display_data"
    }
   ],
   "source": [
    "modelo_LogisticRegression = LogisticRegression(max_iter=10000)\n",
    "roda_modelo_matriz_confusao(modelo_LogisticRegression, \"LogisticRegression\")"
   ]
  },
  {
   "cell_type": "markdown",
   "id": "47b6ca2a",
   "metadata": {},
   "source": [
    "#### DecisionTreeClassifier"
   ]
  },
  {
   "cell_type": "code",
   "execution_count": 124,
   "id": "05090b1d",
   "metadata": {},
   "outputs": [
    {
     "name": "stdout",
     "output_type": "stream",
     "text": [
      "DecisionTreeClassifier\n",
      "accuracy_score: 0.6477272727272727\n",
      "              precision    recall  f1-score   support\n",
      "\n",
      "           0       0.67      0.68      0.67        47\n",
      "           1       0.62      0.61      0.62        41\n",
      "\n",
      "    accuracy                           0.65        88\n",
      "   macro avg       0.65      0.65      0.65        88\n",
      "weighted avg       0.65      0.65      0.65        88\n",
      "\n"
     ]
    },
    {
     "data": {
      "image/png": "[encoded data removed]",
      "text/plain": [
       "<Figure size 432x288 with 2 Axes>"
      ]
     },
     "metadata": {
      "needs_background": "light"
     },
     "output_type": "display_data"
    }
   ],
   "source": [
    "modelo_DecisionTreeClassifier = DecisionTreeClassifier()\n",
    "roda_modelo_matriz_confusao(modelo_DecisionTreeClassifier, \"DecisionTreeClassifier\")"
   ]
  },
  {
   "cell_type": "markdown",
   "id": "0bc1ff0f",
   "metadata": {},
   "source": [
    "### Análisando a métrica AUC\n",
    "\n",
    "AUC é a área entre curvas 0 e 1. Essa métrica mede o quão bem o modelo separa as classes da variável resposta baseado na sua distribuição acumulada. Valores mais próximos de 1, indicam um modelo melhor.\n",
    "\n",
    "Para verificar essa métrica, como o modelo muda a cada vez que rodamos, vaos definir um valor comparativo de n vezes, e coletar o AUC médio e o intervalo do menor e maior valor de todas as iterações executadas.\n"
   ]
  },
  {
   "cell_type": "code",
   "execution_count": 158,
   "id": "cc1b9041",
   "metadata": {},
   "outputs": [
    {
     "name": "stdout",
     "output_type": "stream",
     "text": [
      "AUC LogisticRegression média de 100x do modelo rodado\n",
      "AUC 0.7629994810586406\n",
      "Intervalo 0.666231679922039 - 0.8597672821952421\n"
     ]
    }
   ],
   "source": [
    "print(\"AUC LogisticRegression média de 100x do modelo rodado\")\n",
    "roda_n_modelos(modelo_LogisticRegression, dados_limpos,100)"
   ]
  },
  {
   "cell_type": "code",
   "execution_count": 159,
   "id": "569574c9",
   "metadata": {},
   "outputs": [
    {
     "name": "stdout",
     "output_type": "stream",
     "text": [
      "AUC DecisionTreeClassifier média de 100x do modelo rodado\n",
      "AUC 0.6288687078360147\n",
      "Intervalo 0.5396033655834855 - 0.7181340500885438\n"
     ]
    }
   ],
   "source": [
    "print(\"AUC DecisionTreeClassifier média de 100x do modelo rodado\")\n",
    "roda_n_modelos(modelo_DecisionTreeClassifier, dados_limpos,100)"
   ]
  },
  {
   "cell_type": "markdown",
   "id": "b1238d88",
   "metadata": {},
   "source": [
    "### Análisando com Validação Cruzada\n",
    "\n",
    "A validação cruzada nos permite treinar e testar o modelo com todos os dados disponíveis para evitar a variância e o especto de viés nos nossos dados, com isso temos um resultado mais robusto.\n",
    "Em resumo, vamos rodar o modelo várias vezes, porém a cada iteração, rodamos o modelo com uma parte do conjunto sendo para treino e outra para teste e alternamos isso até que todos os dados sejam utilizados.\n",
    "\n",
    "![](../images/validacaocruzada.png)\n"
   ]
  },
  {
   "cell_type": "markdown",
   "id": "365be4e7",
   "metadata": {},
   "source": [
    "#### Rodando a validação cruzada com 5 \"splits\" e dados embaralhados"
   ]
  },
  {
   "cell_type": "code",
   "execution_count": 155,
   "id": "2f8d3349",
   "metadata": {},
   "outputs": [],
   "source": [
    "cv = StratifiedKFold(n_splits = 5, shuffle = True)"
   ]
  },
  {
   "cell_type": "code",
   "execution_count": 156,
   "id": "8faacb8b",
   "metadata": {},
   "outputs": [
    {
     "name": "stdout",
     "output_type": "stream",
     "text": [
      "Validação Cruzada com LogisticRegression\n"
     ]
    },
    {
     "data": {
      "text/plain": [
       "{'fit_time': array([0.24400091, 0.62000179, 0.51499987, 0.60999846, 0.43300152]),\n",
       " 'score_time': array([0.00499773, 0.00600076, 0.00500083, 0.006001  , 0.00500035]),\n",
       " 'test_score': array([0.67605634, 0.71830986, 0.67142857, 0.72857143, 0.68571429])}"
      ]
     },
     "execution_count": 156,
     "metadata": {},
     "output_type": "execute_result"
    }
   ],
   "source": [
    "print(\"Validação Cruzada com LogisticRegression\")\n",
    "cross_validate(modelo_LogisticRegression, x, y, cv=cv)"
   ]
  },
  {
   "cell_type": "code",
   "execution_count": 157,
   "id": "15bb7f3d",
   "metadata": {},
   "outputs": [
    {
     "name": "stdout",
     "output_type": "stream",
     "text": [
      "Validação Cruzada com DecisionTreeClassifier\n"
     ]
    },
    {
     "data": {
      "text/plain": [
       "{'fit_time': array([0.0269978 , 0.02300477, 0.02500796, 0.02499509, 0.02499747]),\n",
       " 'score_time': array([0.00500107, 0.00600076, 0.00600314, 0.00400186, 0.00500035]),\n",
       " 'test_score': array([0.64788732, 0.67605634, 0.57142857, 0.62857143, 0.62857143])}"
      ]
     },
     "execution_count": 157,
     "metadata": {},
     "output_type": "execute_result"
    }
   ],
   "source": [
    "print(\"Validação Cruzada com DecisionTreeClassifier\")\n",
    "cross_validate(modelo_DecisionTreeClassifier, x, y, cv=cv)"
   ]
  },
  {
   "cell_type": "markdown",
   "id": "56e20a6c",
   "metadata": {},
   "source": [
    "#### Rodando a validação cruzada com 5 \"splits\" porém com 10 repetições"
   ]
  },
  {
   "cell_type": "code",
   "execution_count": 162,
   "id": "5c33cab5",
   "metadata": {},
   "outputs": [],
   "source": [
    "cv = RepeatedStratifiedKFold(n_splits = 5, n_repeats=10)"
   ]
  },
  {
   "cell_type": "code",
   "execution_count": 163,
   "id": "cddaa9d9",
   "metadata": {},
   "outputs": [
    {
     "name": "stdout",
     "output_type": "stream",
     "text": [
      "Validação Cruzada com LogisticRegression\n"
     ]
    },
    {
     "data": {
      "text/plain": [
       "{'fit_time': array([0.59099603, 0.50200248, 0.17099786, 0.21099949, 0.40599966,\n",
       "        0.54400086, 0.19799781, 0.50899887, 0.20699739, 0.24000263,\n",
       "        0.53099918, 0.50599933, 0.5879972 , 0.55699944, 0.24500012,\n",
       "        0.48500252, 0.42999935, 0.23899984, 0.52499723, 0.57900262,\n",
       "        0.26599813, 0.51400065, 0.71400142, 0.83999848, 0.85899854,\n",
       "        0.74099898, 0.75999856, 0.71999955, 0.56599927, 0.21399951,\n",
       "        0.61600041, 0.19799972, 0.22400117, 0.55899906, 0.53900003,\n",
       "        0.46299958, 0.56300092, 0.27799773, 0.61099958, 0.59899807,\n",
       "        0.69399762, 0.47999907, 0.25400019, 0.55899835, 0.61799765,\n",
       "        0.61399794, 0.63100004, 0.32299805, 0.16499734, 0.64699793]),\n",
       " 'score_time': array([0.00499868, 0.00500035, 0.00499988, 0.00500059, 0.00500274,\n",
       "        0.00399899, 0.00400209, 0.00500083, 0.00399947, 0.00399971,\n",
       "        0.0040009 , 0.00500035, 0.00400233, 0.00499725, 0.00500059,\n",
       "        0.00500035, 0.00499964, 0.00500035, 0.00499964, 0.00500011,\n",
       "        0.00500154, 0.00399971, 0.00599861, 0.00700164, 0.00700259,\n",
       "        0.00700092, 0.00500274, 0.00499964, 0.00400162, 0.00600123,\n",
       "        0.00499916, 0.00399995, 0.00399804, 0.00600123, 0.00399661,\n",
       "        0.006001  , 0.00599909, 0.00500226, 0.00600028, 0.00500178,\n",
       "        0.00500298, 0.00500083, 0.00600171, 0.00600171, 0.00500202,\n",
       "        0.00399923, 0.00500321, 0.00500154, 0.00500298, 0.00600243]),\n",
       " 'test_score': array([0.76056338, 0.69014085, 0.65714286, 0.72857143, 0.68571429,\n",
       "        0.76056338, 0.67605634, 0.61428571, 0.72857143, 0.81428571,\n",
       "        0.76056338, 0.74647887, 0.68571429, 0.75714286, 0.74285714,\n",
       "        0.78873239, 0.67605634, 0.62857143, 0.78571429, 0.71428571,\n",
       "        0.78873239, 0.67605634, 0.72857143, 0.71428571, 0.74285714,\n",
       "        0.67605634, 0.71830986, 0.72857143, 0.64285714, 0.75714286,\n",
       "        0.74647887, 0.66197183, 0.68571429, 0.65714286, 0.67142857,\n",
       "        0.67605634, 0.73239437, 0.71428571, 0.72857143, 0.68571429,\n",
       "        0.73239437, 0.64788732, 0.75714286, 0.7       , 0.77142857,\n",
       "        0.64788732, 0.71830986, 0.71428571, 0.77142857, 0.7       ])}"
      ]
     },
     "execution_count": 163,
     "metadata": {},
     "output_type": "execute_result"
    }
   ],
   "source": [
    "print(\"Validação Cruzada com LogisticRegression\")\n",
    "cross_validate(modelo_LogisticRegression, x, y, cv=cv)"
   ]
  },
  {
   "cell_type": "code",
   "execution_count": 164,
   "id": "7b03b36c",
   "metadata": {},
   "outputs": [
    {
     "name": "stdout",
     "output_type": "stream",
     "text": [
      "Validação Cruzada com DecisionTreeClassifier\n"
     ]
    },
    {
     "data": {
      "text/plain": [
       "{'fit_time': array([0.03399682, 0.02300143, 0.0229969 , 0.02499747, 0.02099705,\n",
       "        0.02400064, 0.02500129, 0.02399659, 0.02099752, 0.02200031,\n",
       "        0.02399826, 0.02299857, 0.02399802, 0.02099705, 0.02399969,\n",
       "        0.02199674, 0.0260005 , 0.0199976 , 0.02099705, 0.02300167,\n",
       "        0.02099681, 0.024997  , 0.02299547, 0.02200103, 0.02300143,\n",
       "        0.02399755, 0.02199984, 0.02300143, 0.0240016 , 0.0239985 ,\n",
       "        0.02599716, 0.02600265, 0.02100015, 0.02199268, 0.02190161,\n",
       "        0.0239985 , 0.02399993, 0.02099943, 0.02399731, 0.02099752,\n",
       "        0.02700424, 0.02099657, 0.02599883, 0.02500057, 0.01999736,\n",
       "        0.02199864, 0.0220108 , 0.02699971, 0.02200031, 0.02199936]),\n",
       " 'score_time': array([0.00500154, 0.00400114, 0.00600219, 0.00600314, 0.00499892,\n",
       "        0.0050025 , 0.00499845, 0.00600314, 0.00400162, 0.00399637,\n",
       "        0.00600195, 0.00500226, 0.00400162, 0.00700045, 0.00600362,\n",
       "        0.00500035, 0.00500202, 0.00600314, 0.0040009 , 0.00500107,\n",
       "        0.00521851, 0.00601578, 0.00400043, 0.00499868, 0.00600123,\n",
       "        0.00500321, 0.00499892, 0.00500035, 0.00600028, 0.00399995,\n",
       "        0.00399923, 0.00499558, 0.00500441, 0.00600362, 0.0050025 ,\n",
       "        0.00400114, 0.00399685, 0.00600386, 0.00500417, 0.00499845,\n",
       "        0.0049994 , 0.0050025 , 0.0049994 , 0.00500083, 0.00800681,\n",
       "        0.00400209, 0.00499177, 0.00500822, 0.00599766, 0.00400138]),\n",
       " 'test_score': array([0.66197183, 0.56338028, 0.65714286, 0.67142857, 0.6       ,\n",
       "        0.71830986, 0.63380282, 0.58571429, 0.62857143, 0.67142857,\n",
       "        0.71830986, 0.5915493 , 0.7       , 0.61428571, 0.67142857,\n",
       "        0.67605634, 0.66197183, 0.57142857, 0.52857143, 0.55714286,\n",
       "        0.6056338 , 0.64788732, 0.65714286, 0.68571429, 0.64285714,\n",
       "        0.69014085, 0.61971831, 0.61428571, 0.64285714, 0.61428571,\n",
       "        0.66197183, 0.57746479, 0.68571429, 0.55714286, 0.51428571,\n",
       "        0.63380282, 0.54929577, 0.6       , 0.62857143, 0.61428571,\n",
       "        0.63380282, 0.61971831, 0.61428571, 0.68571429, 0.54285714,\n",
       "        0.5915493 , 0.5915493 , 0.7       , 0.71428571, 0.65714286])}"
      ]
     },
     "execution_count": 164,
     "metadata": {},
     "output_type": "execute_result"
    }
   ],
   "source": [
    "print(\"Validação Cruzada com DecisionTreeClassifier\")\n",
    "cross_validate(modelo_DecisionTreeClassifier, x, y, cv=cv)"
   ]
  },
  {
   "cell_type": "markdown",
   "id": "2a874621",
   "metadata": {},
   "source": [
    "#### Tirando a média de todas essa iterações da validação cruzada"
   ]
  },
  {
   "cell_type": "code",
   "execution_count": 179,
   "id": "34bbe3a7",
   "metadata": {},
   "outputs": [
    {
     "name": "stdout",
     "output_type": "stream",
     "text": [
      "AUC Médio: 0.7581169042846676 - AUC Médio treino: 0.8652934506326052\n",
      "Intervalo 0.6363312322634126 - 0.8799025763059226\n"
     ]
    }
   ],
   "source": [
    "auc_medio, auc_medio_treino = roda_modelo_cv(modelo_LogisticRegression, dados_limpos, 5, 10)"
   ]
  },
  {
   "cell_type": "code",
   "execution_count": 178,
   "id": "fac0548a",
   "metadata": {},
   "outputs": [
    {
     "name": "stdout",
     "output_type": "stream",
     "text": [
      "AUC Médio: 0.6279279683391525 - AUC Médio treino: 1.0\n",
      "Intervalo 0.4988394445682657 - 0.7570164921100394\n"
     ]
    }
   ],
   "source": [
    "auc_medio, auc_medio_treino = roda_modelo_cv(modelo_DecisionTreeClassifier, dados_limpos, 5, 10)"
   ]
  },
  {
   "cell_type": "code",
   "execution_count": null,
   "id": "13fcb5c1",
   "metadata": {},
   "outputs": [],
   "source": []
  }
 ],
 "metadata": {
  "kernelspec": {
   "display_name": "Python 3",
   "language": "python",
   "name": "python3"
  },
  "language_info": {
   "codemirror_mode": {
    "name": "ipython",
    "version": 3
   },
   "file_extension": ".py",
   "mimetype": "text/x-python",
   "name": "python",
   "nbconvert_exporter": "python",
   "pygments_lexer": "ipython3",
   "version": "3.8.8"
  },
  "widgets": {
   "application/vnd.jupyter.widget-state+json": {
    "state": {},
    "version_major": 2,
    "version_minor": 0
   }
  }
 },
 "nbformat": 4,
 "nbformat_minor": 5
}
